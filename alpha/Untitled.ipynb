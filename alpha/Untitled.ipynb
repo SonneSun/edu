{
 "cells": [
  {
   "cell_type": "code",
   "execution_count": 1,
   "metadata": {},
   "outputs": [],
   "source": [
    "import sqlite3"
   ]
  },
  {
   "cell_type": "code",
   "execution_count": 30,
   "metadata": {},
   "outputs": [],
   "source": [
    "conn = sqlite3.connect('data-dev.sqlite')"
   ]
  },
  {
   "cell_type": "code",
   "execution_count": 31,
   "metadata": {},
   "outputs": [],
   "source": [
    "sql_drop_table = \"DROP TABLE IF EXISTS mentor_profile\"\n",
    "\n",
    "sql_create_table1 = \"CREATE TABLE IF NOT EXISTS mentor_profile ( id integer PRIMARY KEY,\\\n",
    "last_name text NOT NULL,first_name text NOT NULL,full_name text NOT NULL,\\\n",
    "rating integer,domain text,introduction text,pic_path text)\"\n",
    "\n",
    "sql1 = \"INSERT INTO mentor_profile(id,last_name,first_name,full_name,rating,domain,introduction,pic_path) \\\n",
    "VALUES(1,'Chen','Joanne','Joanne Chen',5,'Accounting, Finance',\\\n",
    "'5 years teaching experience, familiar with all the related courses details.',\\\n",
    "'mentors_pic/joanne_chen.jpg') \"\n",
    "\n",
    "sql2 = \"INSERT INTO mentor_profile(id,last_name,first_name,full_name,rating,domain,introduction,pic_path) \\\n",
    "VALUES(2,'Ye','Gordon','Gordon Ye',5,'Statistics, Finance',\\\n",
    "'5 years teaching experience, familiar with all the related courses details.',\\\n",
    "'mentors_pic/gordon_ye.jpg') \"\n",
    "\n",
    "\n",
    "sql3 = \"INSERT INTO mentor_profile(id,last_name,first_name,full_name,rating,domain,introduction,pic_path) \\\n",
    "VALUES(3,'Liu','Brian','Brian Liu',5,'Law',\\\n",
    "'5 years teaching experience, familiar with all the related courses details.',\\\n",
    "'mentors_pic/brian_liu.jpg') \""
   ]
  },
  {
   "cell_type": "code",
   "execution_count": 32,
   "metadata": {},
   "outputs": [
    {
     "data": {
      "text/plain": [
       "<sqlite3.Cursor at 0x7f64944c3110>"
      ]
     },
     "execution_count": 32,
     "metadata": {},
     "output_type": "execute_result"
    }
   ],
   "source": [
    "cur = conn.cursor()\n",
    "cur.execute(sql_drop_table)\n",
    "cur.execute(sql_create_table1)\n",
    "cur.execute(sql1)\n",
    "cur.execute(sql2)\n",
    "cur.execute(sql3)"
   ]
  },
  {
   "cell_type": "code",
   "execution_count": 33,
   "metadata": {},
   "outputs": [],
   "source": [
    "conn.commit()\n",
    "cur.close()\n",
    "conn.close()"
   ]
  },
  {
   "cell_type": "code",
   "execution_count": null,
   "metadata": {},
   "outputs": [],
   "source": []
  },
  {
   "cell_type": "code",
   "execution_count": 29,
   "metadata": {},
   "outputs": [
    {
     "name": "stdout",
     "output_type": "stream",
     "text": [
      "[(1, u'Chen', u'Joanne', u'Joanne Chen', 5, u'Accounting, Finance', u'5 years teaching experience, familiar with all the related courses details.', u'static/mentors_pic/joanne_chen.jpg'), (2, u'Ye', u'Gordon', u'Gordon Ye', 5, u'Statistics, Finance', u'5 years teaching experience, familiar with all the related courses details.', u'static/mentors_pic/gordon_ye.jpg'), (3, u'Liu', u'Brian', u'Brian Liu', 5, u'Law', u'5 years teaching experience, familiar with all the related courses details.', u'static/mentors_pic/brian_liu.jpg')]\n"
     ]
    }
   ],
   "source": [
    "sql_test = \"select * from mentor_profile\"\n",
    "\n",
    "conn = sqlite3.connect('data-dev.sqlite')\n",
    "cur = conn.cursor()\n",
    "cur.execute(sql_test)\n",
    "rows = cur.fetchall()\n",
    "print rows\n",
    "cur.close()\n",
    "conn.close()"
   ]
  },
  {
   "cell_type": "code",
   "execution_count": 3,
   "metadata": {},
   "outputs": [
    {
     "data": {
      "text/plain": [
       "'45-67'"
      ]
     },
     "execution_count": 3,
     "metadata": {},
     "output_type": "execute_result"
    }
   ],
   "source": [
    "a = '45-67'\n",
    "a.replace('-','/')\n",
    "a"
   ]
  },
  {
   "cell_type": "code",
   "execution_count": null,
   "metadata": {},
   "outputs": [],
   "source": [
    "sql_drop_table = \"DROP TABLE IF EXISTS mentor_detail\"\n",
    "\n",
    "sql_create_table1 = \"CREATE TABLE IF NOT EXISTS mentor_detail ( id integer PRIMARY KEY,\\\n",
    "full_name text NOT NULL,\\\n",
    "domain text,introduction text,pic_path text)\""
   ]
  }
 ],
 "metadata": {
  "kernelspec": {
   "display_name": "Python 2",
   "language": "python",
   "name": "python2"
  },
  "language_info": {
   "codemirror_mode": {
    "name": "ipython",
    "version": 2
   },
   "file_extension": ".py",
   "mimetype": "text/x-python",
   "name": "python",
   "nbconvert_exporter": "python",
   "pygments_lexer": "ipython2",
   "version": "2.7.13"
  }
 },
 "nbformat": 4,
 "nbformat_minor": 2
}
